{
 "cells": [
  {
   "cell_type": "markdown",
   "id": "d424c9f0",
   "metadata": {
    "slideshow": {
     "slide_type": "slide"
    }
   },
   "source": [
    "# Introduction to Data Visualisation with Python\n",
    "\n",
    "### SWD 7\n",
    "\n",
    "#### Maeve Murphy Quinlan"
   ]
  },
  {
   "cell_type": "markdown",
   "id": "00243617",
   "metadata": {
    "slideshow": {
     "slide_type": "skip"
    }
   },
   "source": [
    "jupyter nbconvert notebook_name.ipynb --to slides --post serve --no-input --no-prompt"
   ]
  },
  {
   "cell_type": "markdown",
   "id": "b4ee2ddd",
   "metadata": {
    "slideshow": {
     "slide_type": "slide"
    }
   },
   "source": [
    "## Research Computing Team and Service\n",
    "\n",
    "### Here to support research(ers)\n",
    "- Provide training\n",
    "- Support users of Grid and Cloud Computing platforms\n",
    "- Provide consultancy\n",
    "    - To develop project proposals\n",
    "    - To help recruit people with specialist skills\n",
    "    - Working directly on research projects\n",
    "\n",
    "For details please see our Website: https://arc.leeds.ac.uk\n",
    "Contact us via the IT Service Desk: https://bit.ly/arc-help"
   ]
  },
  {
   "cell_type": "markdown",
   "id": "974a4ccd",
   "metadata": {
    "slideshow": {
     "slide_type": "slide"
    }
   },
   "source": [
    "# Course objectives\n",
    "\n",
    "#### This course should help you to:\n",
    "\n",
    "- Become familiar with best practice with regards to scientific data visualisation\n",
    "- Build a toolkit of resources to help you create objective, informative plots\n",
    "- Use Python and Python libraries such as Matplotlib and Seaborn to create aesthetically pleasing graphics\n",
    "- Be aware of some common issues when it comes to data visualisation"
   ]
  },
  {
   "cell_type": "markdown",
   "id": "b99259b5",
   "metadata": {
    "slideshow": {
     "slide_type": "slide"
    }
   },
   "source": [
    "# What is data visualisation?\n"
   ]
  },
  {
   "cell_type": "markdown",
   "id": "1a55a66b",
   "metadata": {
    "slideshow": {
     "slide_type": "fragment"
    }
   },
   "source": [
    "- ### A way of graphically representing data\n"
   ]
  },
  {
   "cell_type": "markdown",
   "id": "fb73457f",
   "metadata": {
    "slideshow": {
     "slide_type": "fragment"
    }
   },
   "source": [
    "- ### Can include plots, graphs, charts, schematics, maps, infographics"
   ]
  },
  {
   "cell_type": "markdown",
   "id": "03e1af62",
   "metadata": {
    "slideshow": {
     "slide_type": "fragment"
    }
   },
   "source": [
    "- ### Commonly found in research papers, publications, policy documents, on conference posters, in talks, and on news reports..."
   ]
  },
  {
   "cell_type": "markdown",
   "id": "0c451fb0",
   "metadata": {
    "slideshow": {
     "slide_type": "slide"
    }
   },
   "source": [
    "# Data Visualisation\n",
    "\n",
    "- ### Makes it easier to identify outliers, relationships, patterns and trends in data\n",
    "- ### Reduces complex and large datasets to a more digestible and understandable format\n",
    "- ### Saves time and allows for quicker scanning and understanding of data\n",
    "- ### Can illustrate a story and present results in a logical, clear way"
   ]
  },
  {
   "cell_type": "markdown",
   "id": "9025c86d",
   "metadata": {
    "slideshow": {
     "slide_type": "slide"
    }
   },
   "source": [
    "## Good Data Visualisation\n",
    "\n",
    "- ### Objective and unbiased representation of the data\n",
    "\n",
    "- ### Should deliver meaningful results and illustrate something useful about the data\n",
    "\n",
    "- ### All information required to understand it should be available in the legend and/or caption (but may require domain specific knowledge)\n",
    "\n",
    "- ### Can also be used to explore your data - figures and plots for you and your collaborators, not for publication!"
   ]
  },
  {
   "cell_type": "markdown",
   "id": "97dad53f",
   "metadata": {
    "slideshow": {
     "slide_type": "slide"
    }
   },
   "source": [
    "![](figs/Nightingale.jpg)\n",
    "\n",
    "[The Causes of Mortality in the Crimean War (Florence Nightingale, 1857)](https://longitude.ft.com/10-data-visualisations-that-changed-the-world-of-information-design/)"
   ]
  },
  {
   "cell_type": "markdown",
   "id": "d583b012",
   "metadata": {
    "slideshow": {
     "slide_type": "slide"
    }
   },
   "source": [
    "![](figs/Priestley.jpg)\n",
    "\n",
    "[A New Chart of History (Joseph Priestley, 1769)](https://longitude.ft.com/10-data-visualisations-that-changed-the-world-of-information-design/)"
   ]
  },
  {
   "cell_type": "markdown",
   "id": "270a2d1f",
   "metadata": {
    "slideshow": {
     "slide_type": "slide"
    }
   },
   "source": [
    "<img src=\"figs/stanfords-geological-full.jpg\" style=\"width: 50%;\" alt=\"Stanford's 1915 Geological Map of Ireland in colour\"/>\n",
    "\n",
    "Stanford's 1915 Geological Map of Ireland in colour"
   ]
  },
  {
   "cell_type": "markdown",
   "id": "d98bca5b",
   "metadata": {
    "slideshow": {
     "slide_type": "slide"
    }
   },
   "source": [
    "<img src=\"figs/stanfords-geological-zoom.jpg\" style=\"width: 50%;\" alt=\"Stanford's 1915 Geological Map of Ireland in colour\"/>\n",
    "\n",
    "Zoom of West Cork Region"
   ]
  },
  {
   "cell_type": "markdown",
   "id": "daee428e",
   "metadata": {
    "slideshow": {
     "slide_type": "slide"
    }
   },
   "source": [
    "<img src=\"figs/geo_map_key.jpg\" style=\"width: 35%; float: left;\" alt=\"Stanford's 1915 Geological Map of Ireland in colour\"/>\n",
    "\n",
    "\n",
    "- ### Legends provide context for the data\n",
    "- ### Legend order can imply significance:\n",
    "    - ### Geological ages"
   ]
  },
  {
   "cell_type": "markdown",
   "id": "3256be27",
   "metadata": {
    "slideshow": {
     "slide_type": "slide"
    }
   },
   "source": [
    "## But we do now have a better understanding of how it works...\n",
    "\n"
   ]
  },
  {
   "cell_type": "markdown",
   "id": "5e611766",
   "metadata": {
    "slideshow": {
     "slide_type": "fragment"
    }
   },
   "source": [
    "## What's needed for **Good Data Visualisation**?\n"
   ]
  },
  {
   "cell_type": "markdown",
   "id": "20e17009",
   "metadata": {
    "slideshow": {
     "slide_type": "fragment"
    }
   },
   "source": [
    "1. ### Evidence-based best practises for objective data representation"
   ]
  },
  {
   "cell_type": "markdown",
   "id": "bd374108",
   "metadata": {
    "slideshow": {
     "slide_type": "fragment"
    }
   },
   "source": [
    "2. ### Technical skills in tools to build graphics"
   ]
  },
  {
   "cell_type": "markdown",
   "id": "962f0052",
   "metadata": {
    "slideshow": {
     "slide_type": "fragment"
    }
   },
   "source": [
    "3. ### Domain-specific knowlege of underlying dataset"
   ]
  },
  {
   "cell_type": "markdown",
   "id": "06dfc980",
   "metadata": {
    "slideshow": {
     "slide_type": "fragment"
    }
   },
   "source": [
    "4. ### Creativity and subjective taste"
   ]
  },
  {
   "cell_type": "markdown",
   "id": "eb604032",
   "metadata": {
    "slideshow": {
     "slide_type": "slide"
    }
   },
   "source": [
    "# Why did we make this course?\n",
    "\n",
    "1. #### Evidence-based best practises for objective data representation\n",
    "2. #### Technical skills in tools to build graphics\n",
    "3. #### Domain-specific knowlege of underlying dataset\n",
    "4. #### Creativity and subjective taste\n",
    "\n",
    "### Researchers frequently don't receive guidance on points 1 and 2 above, despite data visualisation being a cornerstone of good research\n",
    "\n",
    "#### We hope we can provide a jumping off point for you to continue your learning in these areas and apply some best-practises to your data visualisation starting today!"
   ]
  },
  {
   "cell_type": "markdown",
   "id": "6acc803d",
   "metadata": {
    "slideshow": {
     "slide_type": "slide"
    }
   },
   "source": [
    "# Why Python?\n",
    "\n",
    " - ### A flexible, human-readable programming language with a simple syntax\n",
    " - ### Commonly used for:\n",
    "     - ### Data analytics\n",
    "     - ### Scientific programming\n",
    "     - ### Data visualisation\n",
    " - ### It has a huge collection of specialised libraries to solve specific research problems\n",
    " - ### It is Open Source"
   ]
  },
  {
   "cell_type": "markdown",
   "id": "dc76005a",
   "metadata": {
    "slideshow": {
     "slide_type": "slide"
    }
   },
   "source": [
    "# Why Python?\n",
    "\n",
    " - ### Allows us to create reproducible graphics and share the source code\n",
    "  - ### Enables us to build efficient workflows and research pipelines, with data cleaning, statistical analysis and plotting in the same language\n",
    "   - ### Many different library for various research domain-specific plots, data types, and visualisations\n",
    "   \n",
    "## When to *not*  use Python (or not *just* Python)\n",
    "\n",
    "- Not ideal for building more infographic or illustrative charts\n",
    "- While geospatial libraries exist, specialist programs such as QGIS are better optimised for large-scale mapmaking (in conjunction with Python tools)"
   ]
  },
  {
   "cell_type": "markdown",
   "id": "c5180430",
   "metadata": {
    "slideshow": {
     "slide_type": "slide"
    }
   },
   "source": [
    "# This Tutorial\n",
    "\n",
    "## 1. Theory: evidence-based good practise\n",
    "\n",
    "## 2. Practical: Technical skills in tools to build graphics\n",
    "\n",
    "For you to pursue outside this course:\n",
    "\n",
    "### 3. Domain-specific knowledge\n",
    "\n",
    "### 4. Personal taste"
   ]
  },
  {
   "attachments": {},
   "cell_type": "markdown",
   "id": "1bda2bf3",
   "metadata": {
    "slideshow": {
     "slide_type": "slide"
    }
   },
   "source": [
    "## <p style=\"text-align:center;\">bit.ly/vis-poll</p>\n",
    "\n",
    "<img src=\"figs/qr_code.png\" style=\"width: 50%; text-align:center;\" alt=\"QR code directing to the poll url\"/>\n"
   ]
  },
  {
   "cell_type": "markdown",
   "id": "991c5e2f",
   "metadata": {
    "slideshow": {
     "slide_type": "slide"
    }
   },
   "source": [
    "# 1. Evidence based good practise"
   ]
  },
  {
   "cell_type": "markdown",
   "id": "5751019c",
   "metadata": {
    "slideshow": {
     "slide_type": "slide"
    }
   },
   "source": [
    "![Paper titles](figs/headlines.jpg)"
   ]
  },
  {
   "cell_type": "markdown",
   "id": "759a0cfe",
   "metadata": {
    "slideshow": {
     "slide_type": "slide"
    }
   },
   "source": [
    "##  Good practise\n",
    "\n",
    "### Lots of scientific research distilled into a number of \"Top Ten\"-style lists...\n",
    "\n",
    "*Kelleher, Christa, and Thorsten Wagener. 2011. “Ten Guidelines for Effective Data Visualization in Scientific Publications.” Environmental Modelling & Software: With Environment Data News 26 (6): 822–27.*\n",
    "\n",
    "*Midway, Stephen R. 2020. “Principles of Effective Data Visualization.” Patterns (New York, N.Y.) 1 (9): 100141.*\n",
    "\n",
    "*Rougier, Nicolas P., Michael Droettboom, and Philip E. Bourne. 2014. “Ten Simple Rules for Better Figures.” PLoS Computational Biology 10 (9): e1003833.*\n",
    "\n",
    "### We are going to pick and choose useful pieces from each of these\n"
   ]
  },
  {
   "cell_type": "markdown",
   "id": "6bc61270",
   "metadata": {
    "slideshow": {
     "slide_type": "slide"
    }
   },
   "source": [
    "# 5 key ideas when building plots\n",
    "\n",
    "1. ### Who is looking at your plot and why?\n",
    "\n",
    "2. ### What's your central message?\n",
    "\n",
    "3. ### Encode your data intentionally\n",
    "\n",
    "4. ### Compose figures sensibly\n",
    "\n",
    "5. ### Simplify, remove, clarify"
   ]
  },
  {
   "cell_type": "markdown",
   "id": "b7a84b5d",
   "metadata": {
    "slideshow": {
     "slide_type": "slide"
    }
   },
   "source": [
    "# Who is looking at your plot and why?\n",
    "\n",
    "### Who?\n",
    "\n",
    "- ### General public, non-research audiences\n",
    "\n",
    "- ### Domain specific research audiences\n",
    "\n",
    "- ### Your collaborators\n",
    "\n",
    "- ### You!"
   ]
  },
  {
   "cell_type": "markdown",
   "id": "9d717e7d",
   "metadata": {
    "slideshow": {
     "slide_type": "slide"
    }
   },
   "source": [
    "# Why?"
   ]
  },
  {
   "cell_type": "markdown",
   "id": "6db441db",
   "metadata": {
    "slideshow": {
     "slide_type": "slide"
    }
   },
   "source": [
    ".column {\n",
    "  float: left;\n",
    "  width: 50%;\n",
    "}\n",
    "\n",
    "/* Clear floats after the columns */\n",
    ".row:after {\n",
    "  content: \"\";\n",
    "  display: table;\n",
    "  clear: both;\n",
    "}\n",
    "\n",
    "<div class=\"row\">\n",
    "  <div class=\"column\">Text here</div>\n",
    "  <div class=\"column\">Text here</div>\n",
    "</div>\n",
    "\n"
   ]
  },
  {
   "cell_type": "code",
   "execution_count": null,
   "id": "3665b8eb",
   "metadata": {},
   "outputs": [],
   "source": []
  }
 ],
 "metadata": {
  "celltoolbar": "Slideshow",
  "kernelspec": {
   "display_name": "Python 3 (ipykernel)",
   "language": "python",
   "name": "python3"
  },
  "language_info": {
   "codemirror_mode": {
    "name": "ipython",
    "version": 3
   },
   "file_extension": ".py",
   "mimetype": "text/x-python",
   "name": "python",
   "nbconvert_exporter": "python",
   "pygments_lexer": "ipython3",
   "version": "3.12.5"
  }
 },
 "nbformat": 4,
 "nbformat_minor": 5
}
