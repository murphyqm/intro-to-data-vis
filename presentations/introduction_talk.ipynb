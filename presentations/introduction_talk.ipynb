{
 "cells": [
  {
   "cell_type": "markdown",
   "id": "d424c9f0",
   "metadata": {
    "slideshow": {
     "slide_type": "slide"
    }
   },
   "source": [
    "# Introduction to Data Visualisation with Python\n",
    "\n",
    "### SWD 7\n",
    "\n",
    "#### Maeve Murphy Quinlan"
   ]
  },
  {
   "cell_type": "markdown",
   "id": "00243617",
   "metadata": {
    "slideshow": {
     "slide_type": "skip"
    }
   },
   "source": [
    "jupyter nbconvert notebook_name.ipynb --to slides --post serve --no-input --no-prompt"
   ]
  },
  {
   "cell_type": "markdown",
   "id": "b4ee2ddd",
   "metadata": {
    "slideshow": {
     "slide_type": "slide"
    }
   },
   "source": [
    "## Research Computing Team and Service\n",
    "\n",
    "### Here to support research(ers)\n",
    "- Provide training\n",
    "- Support users of Grid and Cloud Computing platforms\n",
    "- Provide consultancy\n",
    "    - To develop project proposals\n",
    "    - To help recruit people with specialist skills\n",
    "    - Working directly on research projects\n",
    "\n",
    "For details please see our Website: https://arc.leeds.ac.uk\n",
    "Contact us via the IT Service Desk: https://bit.ly/arc-help"
   ]
  },
  {
   "cell_type": "markdown",
   "id": "974a4ccd",
   "metadata": {
    "slideshow": {
     "slide_type": "slide"
    }
   },
   "source": [
    "# Course objectives\n",
    "\n",
    "#### This course should help you to:\n",
    "\n",
    "- Become familiar with best practice with regards to scientific data visualisation\n",
    "- Build a toolkit of resources to help you create objective, informative plots\n",
    "- Use Python and Python libraries such as Matplotlib and Seaborn to create aesthetically pleasing graphics\n",
    "- Be aware of some common issues when it comes to data visualisation"
   ]
  },
  {
   "cell_type": "markdown",
   "id": "b99259b5",
   "metadata": {
    "slideshow": {
     "slide_type": "slide"
    }
   },
   "source": [
    "# What is data visualisation?\n"
   ]
  },
  {
   "cell_type": "markdown",
   "id": "1a55a66b",
   "metadata": {
    "slideshow": {
     "slide_type": "fragment"
    }
   },
   "source": [
    "- ### A way of graphically representing data\n"
   ]
  },
  {
   "cell_type": "markdown",
   "id": "fb73457f",
   "metadata": {
    "slideshow": {
     "slide_type": "fragment"
    }
   },
   "source": [
    "- ### Can include plots, graphs, charts, schematics, maps, infographics"
   ]
  },
  {
   "cell_type": "markdown",
   "id": "03e1af62",
   "metadata": {
    "slideshow": {
     "slide_type": "fragment"
    }
   },
   "source": [
    "- ### Commonly found in research papers, publications, policy documents, on conference posters, in talks, and on news reports..."
   ]
  },
  {
   "cell_type": "markdown",
   "id": "0c451fb0",
   "metadata": {
    "slideshow": {
     "slide_type": "slide"
    }
   },
   "source": [
    "# Data Visualisation\n",
    "\n",
    "- ### Makes it easier to identify outliers, relationships, patterns and trends in data\n",
    "- ### Reduces complex and large datasets to a more digestible and understandable format\n",
    "- ### Saves time and allows for quicker scanning and understanding of data\n",
    "- ### Can illustrate a story and present results in a logical, clear way"
   ]
  },
  {
   "cell_type": "markdown",
   "id": "97dad53f",
   "metadata": {
    "slideshow": {
     "slide_type": "slide"
    }
   },
   "source": [
    "![](figs/Nightingale.jpg)\n",
    "\n",
    "[The Causes of Mortality in the Crimean War (Florence Nightingale, 1857)](https://longitude.ft.com/10-data-visualisations-that-changed-the-world-of-information-design/)"
   ]
  },
  {
   "cell_type": "markdown",
   "id": "d583b012",
   "metadata": {
    "slideshow": {
     "slide_type": "slide"
    }
   },
   "source": [
    "![](figs/Priestley.jpg)\n",
    "[A New Chart of History (Joseph Priestley, 1769)](https://longitude.ft.com/10-data-visualisations-that-changed-the-world-of-information-design/)"
   ]
  },
  {
   "cell_type": "markdown",
   "id": "270a2d1f",
   "metadata": {
    "slideshow": {
     "slide_type": "slide"
    }
   },
   "source": [
    "<img src=\"figs/stanfords-geological-full.jpg\" style=\"width: 50%;\" alt=\"Stanford's 1915 Geological Map of Ireland in colour\"/>\n",
    "\n",
    "Stanford's 1915 Geological Map of Ireland in colour"
   ]
  },
  {
   "cell_type": "markdown",
   "id": "d98bca5b",
   "metadata": {
    "slideshow": {
     "slide_type": "slide"
    }
   },
   "source": [
    "<img src=\"figs/stanfords-geological-zoom.jpg\" style=\"width: 50%;\" alt=\"Stanford's 1915 Geological Map of Ireland in colour\"/>\n",
    "\n",
    "Zoom of West Cork Region"
   ]
  },
  {
   "cell_type": "markdown",
   "id": "daee428e",
   "metadata": {
    "slideshow": {
     "slide_type": "slide"
    }
   },
   "source": [
    "<img src=\"figs/geo_map_key.jpg\" style=\"width: 35%; float: left;\" alt=\"Stanford's 1915 Geological Map of Ireland in colour\"/>\n",
    "\n",
    "\n",
    "- ### Legends provide context for the data\n",
    "- ### Legend order can imply significance:\n",
    "    - ### Geological ages"
   ]
  },
  {
   "cell_type": "markdown",
   "id": "3256be27",
   "metadata": {
    "slideshow": {
     "slide_type": "slide"
    }
   },
   "source": []
  }
 ],
 "metadata": {
  "celltoolbar": "Slideshow",
  "kernelspec": {
   "display_name": "Python 3 (ipykernel)",
   "language": "python",
   "name": "python3"
  },
  "language_info": {
   "codemirror_mode": {
    "name": "ipython",
    "version": 3
   },
   "file_extension": ".py",
   "mimetype": "text/x-python",
   "name": "python",
   "nbconvert_exporter": "python",
   "pygments_lexer": "ipython3",
   "version": "3.12.5"
  }
 },
 "nbformat": 4,
 "nbformat_minor": 5
}
